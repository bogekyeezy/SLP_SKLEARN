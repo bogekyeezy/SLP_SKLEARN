{
 "cells": [
  {
   "cell_type": "code",
   "execution_count": 2,
   "metadata": {},
   "outputs": [
    {
     "name": "stdout",
     "output_type": "stream",
     "text": [
      "Accuracy on Test Data: 99.67%\n",
      "              precision    recall  f1-score   support\n",
      "\n",
      "        lose       0.99      1.00      1.00       150\n",
      "         win       1.00      0.99      1.00       150\n",
      "\n",
      "    accuracy                           1.00       300\n",
      "   macro avg       1.00      1.00      1.00       300\n",
      "weighted avg       1.00      1.00      1.00       300\n",
      "\n",
      "Accuracy on Training Data: 99.14%\n"
     ]
    },
    {
     "data": {
      "image/png": "[encoded data removed]",
      "text/plain": [
       "<Figure size 640x480 with 1 Axes>"
      ]
     },
     "metadata": {},
     "output_type": "display_data"
    }
   ],
   "source": [
    "import pandas as pd\n",
    "from sklearn.model_selection import train_test_split\n",
    "from sklearn.preprocessing import LabelEncoder, StandardScaler\n",
    "from sklearn.linear_model import Perceptron\n",
    "from sklearn.metrics import accuracy_score, classification_report\n",
    "import matplotlib.pyplot as plt\n",
    "import numpy as np\n",
    "\n",
    "# Load dataset\n",
    "df = pd.read_csv('valorant_match_clsfc.csv')\n",
    "\n",
    "# Encode kategori\n",
    "categorical_cols = ['rank', 'agent', 'map', 'outcome', 'date']\n",
    "encoders = {col: LabelEncoder().fit(df[col]) for col in categorical_cols}\n",
    "for col in categorical_cols:\n",
    "    df[col] = encoders[col].transform(df[col])\n",
    "\n",
    "# Pisahkan fitur dan target\n",
    "features = df.drop(['game_id', 'episode', 'act', 'rank', 'date', 'outcome', 'headshot_pct', 'kills', 'assists'], axis=1)\n",
    "target = df['outcome']\n",
    "\n",
    "# Normalisasi data\n",
    "scaler = StandardScaler()\n",
    "features = scaler.fit_transform(features)\n",
    "\n",
    "# Split data\n",
    "X_train, X_test, y_train, y_test = train_test_split(features, target, test_size=0.3, random_state=2, stratify=target)\n",
    "\n",
    "# Implementasi Perceptron menggunakan sklearn\n",
    "perceptron = Perceptron(\n",
    "    max_iter=100,  # Maksimal jumlah iterasi\n",
    "    eta0=0.5,  # Learning rate\n",
    "    random_state=2,  # Reproducibility\n",
    "    tol=1e-3,  # Toleransi penghentian\n",
    "    verbose=0  # Menyembunyikan output verbose\n",
    ")\n",
    "\n",
    "# Melatih model\n",
    "perceptron.fit(X_train, y_train)\n",
    "\n",
    "# Evaluasi pada data uji\n",
    "y_pred_test = perceptron.predict(X_test)\n",
    "accuracy_test = accuracy_score(y_test, y_pred_test)\n",
    "print(f\"Accuracy on Test Data: {accuracy_test * 100:.2f}%\")\n",
    "print(classification_report(y_test, y_pred_test, target_names=['lose', 'win']))\n",
    "\n",
    "# Evaluasi pada data latih\n",
    "y_pred_train = perceptron.predict(X_train)\n",
    "accuracy_train = accuracy_score(y_train, y_pred_train)\n",
    "print(f\"Accuracy on Training Data: {accuracy_train * 100:.2f}%\")\n",
    "\n",
    "# Plot Learning Curve\n",
    "plt.plot(perceptron.n_iter_, accuracy_train, label='Train Accuracy', color='blue')\n",
    "plt.title('Learning Curve - Perceptron (sklearn)')\n",
    "plt.xlabel('Epochs')\n",
    "plt.ylabel('Accuracy')\n",
    "plt.grid(True)\n",
    "plt.show()\n"
   ]
  },
  {
   "cell_type": "code",
   "execution_count": 3,
   "metadata": {},
   "outputs": [
    {
     "name": "stdout",
     "output_type": "stream",
     "text": [
      "Hasil prediksi pada data uji disimpan ke perceptron_results_test.csv\n",
      "Hasil prediksi pada data latih disimpan ke perceptron_results_train.csv\n"
     ]
    }
   ],
   "source": [
    "# Buat DataFrame hasil prediksi pada data uji\n",
    "results_test = pd.DataFrame({\n",
    "    'Actual': y_test,\n",
    "    'Predicted': y_pred_test\n",
    "})\n",
    "\n",
    "# Simpan hasil prediksi data uji ke CSV\n",
    "results_test.to_csv('perceptron_results_test.csv', index=False)\n",
    "print(\"Hasil prediksi pada data uji disimpan ke perceptron_results_test.csv\")\n",
    "\n",
    "# Buat DataFrame hasil prediksi pada data latih\n",
    "results_train = pd.DataFrame({\n",
    "    'Actual': y_train,\n",
    "    'Predicted': y_pred_train\n",
    "})\n",
    "\n",
    "# Simpan hasil prediksi data latih ke CSV\n",
    "results_train.to_csv('perceptron_results_train.csv', index=False)\n",
    "print(\"Hasil prediksi pada data latih disimpan ke perceptron_results_train.csv\")\n"
   ]
  }
 ],
 "metadata": {
  "kernelspec": {
   "display_name": "Python 3",
   "language": "python",
   "name": "python3"
  },
  "language_info": {
   "codemirror_mode": {
    "name": "ipython",
    "version": 3
   },
   "file_extension": ".py",
   "mimetype": "text/x-python",
   "name": "python",
   "nbconvert_exporter": "python",
   "pygments_lexer": "ipython3",
   "version": "3.12.7"
  }
 },
 "nbformat": 4,
 "nbformat_minor": 2
}
